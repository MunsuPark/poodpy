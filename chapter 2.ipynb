{
 "cells": [
  {
   "cell_type": "markdown",
   "metadata": {},
   "source": [
    "# 2장. 단일 책임 원칙을 따르는 클래스 디자인하기"
   ]
  },
  {
   "cell_type": "markdown",
   "metadata": {},
   "source": [
    "객체지향 시스템은 클래스들 사이에 주고 받는 메세지로 이루어진다"
   ]
  },
  {
   "cell_type": "markdown",
   "metadata": {},
   "source": [
    "클래스를 만들기 위해서는(20 p)\n",
    "1. 연관성 있는 메서드들을 포함하도록\n",
    "2. 수정하기 쉽도록"
   ]
  },
  {
   "cell_type": "markdown",
   "metadata": {},
   "source": [
    "수정하기 쉬운 코드의 특징(21 p)\n",
    "1. 투명하다\n",
    "2. 적절하다\n",
    "3. 사용가능하다\n",
    "4. 모범이 된다"
   ]
  },
  {
   "cell_type": "markdown",
   "metadata": {},
   "source": [
    "### 하나의 책임만 가지는 클래스를 만들어보자"
   ]
  },
  {
   "cell_type": "markdown",
   "metadata": {},
   "source": [
    "### Page 22"
   ]
  },
  {
   "cell_type": "code",
   "execution_count": 43,
   "metadata": {
    "collapsed": false
   },
   "outputs": [
    {
     "name": "stdout",
     "output_type": "stream",
     "text": [
      "4.7272727272727275\n",
      "1.1111111111111112\n"
     ]
    }
   ],
   "source": [
    "chainring = 52  # 앞 톱니 개수\n",
    "cog = 11  # 뒷 톱니 개수\n",
    "ratio = chainring / float(cog)  # 기어비\n",
    "print(ratio)\n",
    "\n",
    "chainring = 30\n",
    "cog = 27\n",
    "ratio = chainring / float(cog)\n",
    "print(ratio)"
   ]
  },
  {
   "cell_type": "markdown",
   "metadata": {},
   "source": [
    "놀랍도록 기어비에 신경쓰는 사람들이 있습니다. 그게 저는 아닙니다만 \n",
    "http://www.bikem.co.kr/article/read.php?num=8519"
   ]
  },
  {
   "cell_type": "markdown",
   "metadata": {},
   "source": [
    "### Page 23"
   ]
  },
  {
   "cell_type": "code",
   "execution_count": 53,
   "metadata": {
    "collapsed": true
   },
   "outputs": [],
   "source": [
    "class Gear(object):\n",
    "    def __init__(self, chainring, cog):\n",
    "        \"\"\"\n",
    "        앞, 뒤 톱니바퀴수\n",
    "        \"\"\"\n",
    "        self.__chainring = chainring\n",
    "        self.__cog = cog\n",
    "\n",
    "    def ratio(self):\n",
    "        return self.__chainring / float(self.__cog)\n",
    "\n",
    "    @property\n",
    "    def chainring(self):\n",
    "        return self.__chainring\n",
    "\n",
    "    @property\n",
    "    def cog(self):\n",
    "        return self.__cog"
   ]
  },
  {
   "cell_type": "code",
   "execution_count": 54,
   "metadata": {
    "collapsed": false
   },
   "outputs": [],
   "source": [
    "def test_gear_ratio():\n",
    "    print(Gear(52, 11).ratio())\n",
    "    print(Gear(30, 27).ratio())"
   ]
  },
  {
   "cell_type": "code",
   "execution_count": 55,
   "metadata": {
    "collapsed": false
   },
   "outputs": [
    {
     "name": "stdout",
     "output_type": "stream",
     "text": [
      "4.7272727272727275\n",
      "1.1111111111111112\n"
     ]
    }
   ],
   "source": [
    "test_gear_ratio()"
   ]
  },
  {
   "cell_type": "markdown",
   "metadata": {},
   "source": [
    "아무 문제 없어 보이지만, 바퀴의 크기가 다른 경우가 있다. 예를 들면 이런 경우?  \n",
    "26인치 vs 29인치 : http://m.blog.naver.com/searider/220055184841  \n",
    "폴딩 : http://blog.naver.com/PostView.nhn?blogId=ninjarazzi&logNo=40117828380"
   ]
  },
  {
   "cell_type": "markdown",
   "metadata": {},
   "source": [
    "새로운 행동을 추가하자"
   ]
  },
  {
   "cell_type": "markdown",
   "metadata": {},
   "source": [
    "### Page 20"
   ]
  },
  {
   "cell_type": "code",
   "execution_count": 57,
   "metadata": {
    "collapsed": true
   },
   "outputs": [],
   "source": [
    "class Gear(object):\n",
    "    def __init__(self, chainring, cog, rim, tire):\n",
    "        \"\"\"\n",
    "        앞, 뒤 톱니바퀴수\n",
    "        바퀴테 지름\n",
    "        타이어 높이\n",
    "        \"\"\"\n",
    "        self.__chainring = chainring\n",
    "        self.__cog = cog\n",
    "        self.__rim = rim\n",
    "        self.__tire = tire\n",
    "\n",
    "    def ratio(self):\n",
    "        return self.chainring / float(self.cog)\n",
    "\n",
    "    def gear_inches(self):\n",
    "        # 타이어는 바퀴를 감싸고 있으므로, 지름을 계산할 때 타이어 높이에 2를 곱한다\n",
    "        return self.ratio() * (self.rim + (self.tire * 2))\n",
    "\n",
    "    @property\n",
    "    def chainring(self):\n",
    "        return self.__chainring\n",
    "\n",
    "    @property\n",
    "    def cog(self):\n",
    "        return self.__cog\n",
    "\n",
    "    @property\n",
    "    def rim(self):\n",
    "        return self.__rim\n",
    "\n",
    "    @property\n",
    "    def tire(self):\n",
    "        return self.__tire"
   ]
  },
  {
   "cell_type": "code",
   "execution_count": 58,
   "metadata": {
    "collapsed": false
   },
   "outputs": [
    {
     "name": "stdout",
     "output_type": "stream",
     "text": [
      "137.0909090909091\n",
      "125.27272727272728\n"
     ]
    }
   ],
   "source": [
    "print(Gear(52, 11, 26, 1.5).gear_inches())\n",
    "print(Gear(52, 11, 24, 1.25).gear_inches())"
   ]
  },
  {
   "cell_type": "code",
   "execution_count": 59,
   "metadata": {
    "collapsed": false
   },
   "outputs": [
    {
     "ename": "TypeError",
     "evalue": "__init__() missing 2 required positional arguments: 'rim' and 'tire'",
     "output_type": "error",
     "traceback": [
      "\u001b[0;31m---------------------------------------------------------------------------\u001b[0m",
      "\u001b[0;31mTypeError\u001b[0m                                 Traceback (most recent call last)",
      "\u001b[0;32m<ipython-input-59-d6fbb2276275>\u001b[0m in \u001b[0;36m<module>\u001b[0;34m()\u001b[0m\n\u001b[1;32m      1\u001b[0m \u001b[0;31m# 잘 되던게 안되는 이유\u001b[0m\u001b[0;34m\u001b[0m\u001b[0;34m\u001b[0m\u001b[0m\n\u001b[0;32m----> 2\u001b[0;31m \u001b[0mtest_gear_ratio\u001b[0m\u001b[0;34m(\u001b[0m\u001b[0;34m)\u001b[0m\u001b[0;34m\u001b[0m\u001b[0m\n\u001b[0m",
      "\u001b[0;32m<ipython-input-54-300bb47ccb0e>\u001b[0m in \u001b[0;36mtest_gear_ratio\u001b[0;34m()\u001b[0m\n\u001b[1;32m      1\u001b[0m \u001b[0;32mdef\u001b[0m \u001b[0mtest_gear_ratio\u001b[0m\u001b[0;34m(\u001b[0m\u001b[0;34m)\u001b[0m\u001b[0;34m:\u001b[0m\u001b[0;34m\u001b[0m\u001b[0m\n\u001b[0;32m----> 2\u001b[0;31m     \u001b[0mprint\u001b[0m\u001b[0;34m(\u001b[0m\u001b[0mGear\u001b[0m\u001b[0;34m(\u001b[0m\u001b[0;36m52\u001b[0m\u001b[0;34m,\u001b[0m \u001b[0;36m11\u001b[0m\u001b[0;34m)\u001b[0m\u001b[0;34m.\u001b[0m\u001b[0mratio\u001b[0m\u001b[0;34m(\u001b[0m\u001b[0;34m)\u001b[0m\u001b[0;34m)\u001b[0m\u001b[0;34m\u001b[0m\u001b[0m\n\u001b[0m\u001b[1;32m      3\u001b[0m     \u001b[0mprint\u001b[0m\u001b[0;34m(\u001b[0m\u001b[0mGear\u001b[0m\u001b[0;34m(\u001b[0m\u001b[0;36m30\u001b[0m\u001b[0;34m,\u001b[0m \u001b[0;36m27\u001b[0m\u001b[0;34m)\u001b[0m\u001b[0;34m.\u001b[0m\u001b[0mratio\u001b[0m\u001b[0;34m(\u001b[0m\u001b[0;34m)\u001b[0m\u001b[0;34m)\u001b[0m\u001b[0;34m\u001b[0m\u001b[0m\n",
      "\u001b[0;31mTypeError\u001b[0m: __init__() missing 2 required positional arguments: 'rim' and 'tire'"
     ]
    }
   ],
   "source": [
    "# 잘 되던게 안되는 이유\n",
    "test_gear_ratio()"
   ]
  },
  {
   "cell_type": "markdown",
   "metadata": {},
   "source": [
    "클래스란 쉽게 가져다 쓸 수 있는 코드  \n",
    "결합도가 높으면 유지보수가 힘들어 진다  \n",
    "<br>  \n",
    "행동에 기반한 코드를 만들어보자"
   ]
  },
  {
   "cell_type": "markdown",
   "metadata": {},
   "source": [
    "### Page 30"
   ]
  },
  {
   "cell_type": "code",
   "execution_count": 60,
   "metadata": {
    "collapsed": true
   },
   "outputs": [],
   "source": [
    "class Gear(object):\n",
    "    def __init__(self, chainring, cog):\n",
    "            self.__chainring = chainring\n",
    "            self.__cog = cog\n",
    "\n",
    "    def ratio(self):\n",
    "        return self.__chainring / float(self.__cog)      # 멸망의 길"
   ]
  },
  {
   "cell_type": "code",
   "execution_count": 61,
   "metadata": {
    "collapsed": false
   },
   "outputs": [
    {
     "name": "stdout",
     "output_type": "stream",
     "text": [
      "4.7272727272727275\n",
      "1.1111111111111112\n"
     ]
    }
   ],
   "source": [
    "test_gear_ratio()"
   ]
  },
  {
   "cell_type": "markdown",
   "metadata": {},
   "source": [
    "### Page 30"
   ]
  },
  {
   "cell_type": "code",
   "execution_count": 68,
   "metadata": {
    "collapsed": true
   },
   "outputs": [],
   "source": [
    "class Gear(object):\n",
    "    def __init__(self, chainring, cog):\n",
    "        self.__chainring = chainring\n",
    "        self.__cog = cog\n",
    "\n",
    "    def ratio(self):\n",
    "        \"\"\"\n",
    "        변수를 감싸고 이를 사용하자\n",
    "        \"\"\"\n",
    "        return self.chainring / float(self.cog)\n",
    "\n",
    "    @property\n",
    "    def chainring(self):   \n",
    "        \"\"\"\n",
    "        앞 톱니바퀴수가 무엇인지 아는 프로퍼티를 만든다. \n",
    "        계산식이 바뀌더라도 이 부분만 바꿔주면 된다(31 p)\n",
    "        \"\"\"\n",
    "        return self.__chainring\n",
    "\n",
    "    @property\n",
    "    def cog(self):\n",
    "        \"\"\"\n",
    "        뒷 톱니바퀴수가 무엇인지 아는 프로퍼티를 만든다. \n",
    "        \"\"\"\n",
    "        return self.__cog"
   ]
  },
  {
   "cell_type": "code",
   "execution_count": 69,
   "metadata": {
    "collapsed": false
   },
   "outputs": [
    {
     "name": "stdout",
     "output_type": "stream",
     "text": [
      "4.7272727272727275\n",
      "1.1111111111111112\n"
     ]
    }
   ],
   "source": [
    "test_gear_ratio()"
   ]
  },
  {
   "cell_type": "markdown",
   "metadata": {},
   "source": [
    "### Page 32 복잡한 데이터 구조에 의존하는 것은 더 안좋다"
   ]
  },
  {
   "cell_type": "code",
   "execution_count": 70,
   "metadata": {
    "collapsed": true
   },
   "outputs": [],
   "source": [
    "class ObscuringReferences(object):\n",
    "    def __init__(self, data):\n",
    "        self._data = data\n",
    "\n",
    "    def diameters(self):\n",
    "        # 0 is rim, 1 is tire\n",
    "        return [cell[0] + (cell[1] * 2) for cell in self.data]\n",
    "\n",
    "    @property\n",
    "    def data(self):\n",
    "        return self._data\n",
    "\n",
    "    # ... many other methods that index into the array"
   ]
  },
  {
   "cell_type": "code",
   "execution_count": 71,
   "metadata": {
    "collapsed": true
   },
   "outputs": [],
   "source": [
    "data = [[622, 20], [622, 23], [559, 30], [559, 40]]"
   ]
  },
  {
   "cell_type": "code",
   "execution_count": 73,
   "metadata": {
    "collapsed": false
   },
   "outputs": [],
   "source": [
    "ors = ObscuringReferences(data)"
   ]
  },
  {
   "cell_type": "code",
   "execution_count": 75,
   "metadata": {
    "collapsed": false
   },
   "outputs": [
    {
     "data": {
      "text/plain": [
       "[662, 668, 619, 639]"
      ]
     },
     "execution_count": 75,
     "metadata": {},
     "output_type": "execute_result"
    }
   ],
   "source": [
    "# 지금은 잘 동작하지만 배열 구조가 바뀌면 클래스가 가지고 있는 데이터 구조를 바꾸는 것이기 때문에 영향도가 크다\n",
    "ors.diameters()"
   ]
  },
  {
   "cell_type": "code",
   "execution_count": null,
   "metadata": {
    "collapsed": true
   },
   "outputs": [],
   "source": []
  },
  {
   "cell_type": "markdown",
   "metadata": {},
   "source": [
    "### Page 28"
   ]
  },
  {
   "cell_type": "code",
   "execution_count": 32,
   "metadata": {
    "collapsed": true
   },
   "outputs": [],
   "source": [
    "from collections import namedtuple"
   ]
  },
  {
   "cell_type": "code",
   "execution_count": 33,
   "metadata": {
    "collapsed": true
   },
   "outputs": [],
   "source": [
    "class RevealingReferences(object):\n",
    "    def __init__(self, data):\n",
    "        self.wheels = data\n",
    "\n",
    "    def diameters(self):\n",
    "        return [wheel.rim + (wheel.tire * 2) for wheel in self.wheels]\n",
    "\n",
    "    @property\n",
    "    def wheels(self):\n",
    "        return self.__wheels\n",
    "\n",
    "    Wheel = namedtuple('Wheel', ['rim', 'tire'])\n",
    "\n",
    "    @wheels.setter\n",
    "    def wheels(self, value):\n",
    "        self.__wheels = [self.Wheel(cell[0], cell[1]) for cell in value]"
   ]
  },
  {
   "cell_type": "code",
   "execution_count": null,
   "metadata": {
    "collapsed": true
   },
   "outputs": [],
   "source": []
  },
  {
   "cell_type": "markdown",
   "metadata": {},
   "source": [
    "### Page 29"
   ]
  },
  {
   "cell_type": "code",
   "execution_count": 34,
   "metadata": {
    "collapsed": true
   },
   "outputs": [],
   "source": [
    "class RevealingReferences(object):\n",
    "    def __init__(self, data):\n",
    "        self.wheels = data\n",
    "    \n",
    "    # page 29\n",
    "    # first - iterate over the array\n",
    "    def diameters(self):\n",
    "        return [self.diameter(wheel) for wheel in self.wheels]\n",
    "\n",
    "    # second - calculate diameter of ONE wheel\n",
    "    def diameter(self, wheel):\n",
    "        return wheel.rim + (wheel.tire * 2)\n",
    "    \n",
    "    @property\n",
    "    def wheels(self):\n",
    "        return self.__wheels\n",
    "\n",
    "    Wheel = namedtuple('Wheel', ['rim', 'tire'])\n",
    "\n",
    "    @wheels.setter\n",
    "    def wheels(self, value):\n",
    "        self.__wheels = [self.Wheel(cell[0], cell[1]) for cell in value]"
   ]
  },
  {
   "cell_type": "code",
   "execution_count": null,
   "metadata": {
    "collapsed": true
   },
   "outputs": [],
   "source": []
  },
  {
   "cell_type": "code",
   "execution_count": null,
   "metadata": {
    "collapsed": true
   },
   "outputs": [],
   "source": []
  },
  {
   "cell_type": "markdown",
   "metadata": {},
   "source": [
    "### Page 32"
   ]
  },
  {
   "cell_type": "code",
   "execution_count": 36,
   "metadata": {
    "collapsed": true
   },
   "outputs": [],
   "source": [
    "class Gear(object):\n",
    "    def __init__(self, chainring, cog, rim, tire):\n",
    "        self.__chainring = chainring\n",
    "        self.__cog = cog\n",
    "        self.__wheel = self.Wheel(rim, tire)\n",
    "\n",
    "    @property\n",
    "    def chainring(self):\n",
    "        return self.__chainring\n",
    "\n",
    "    @property\n",
    "    def cog(self):\n",
    "        return self.__cog\n",
    "\n",
    "    @property\n",
    "    def wheel(self):\n",
    "        return self.__wheel\n",
    "\n",
    "    def ratio(self):\n",
    "        return self.chainring / float(self.cog)\n",
    "\n",
    "    def gear_inches(self):\n",
    "        return self.ratio() * self.wheel.diameter()\n",
    "\n",
    "    class Wheel(namedtuple('Wheel', ['rim', 'tire'])):\n",
    "        def diameter(self):\n",
    "            return self.rim + (self.tire * 2)"
   ]
  },
  {
   "cell_type": "code",
   "execution_count": null,
   "metadata": {
    "collapsed": true
   },
   "outputs": [],
   "source": []
  },
  {
   "cell_type": "code",
   "execution_count": null,
   "metadata": {
    "collapsed": true
   },
   "outputs": [],
   "source": []
  },
  {
   "cell_type": "markdown",
   "metadata": {},
   "source": [
    "### Page 33"
   ]
  },
  {
   "cell_type": "code",
   "execution_count": 38,
   "metadata": {
    "collapsed": true
   },
   "outputs": [],
   "source": [
    "class Gear(object):\n",
    "    def __init__(self, chainring, cog, wheel=None):\n",
    "        self.__chainring = chainring\n",
    "        self.__cog = cog\n",
    "        self.__wheel = wheel\n",
    "\n",
    "    @property\n",
    "    def chainring(self):\n",
    "        return self.__chainring\n",
    "\n",
    "    @property\n",
    "    def cog(self):\n",
    "        return self.__cog\n",
    "\n",
    "    @property\n",
    "    def wheel(self):\n",
    "        return self.__wheel\n",
    "\n",
    "    def ratio(self):\n",
    "        return self.chainring / float(self.cog)\n",
    "\n",
    "    def gear_inches(self):\n",
    "        return self.ratio() * self.wheel.diameter()\n",
    "\n",
    "\n",
    "class Wheel(object):\n",
    "    def __init__(self, rim, tire):\n",
    "        self.__rim = rim\n",
    "        self.__tire = tire\n",
    "\n",
    "    def diameter(self):\n",
    "        return self.rim + (self.tire * 2)\n",
    "\n",
    "    def circumference(self):\n",
    "        import math\n",
    "        return self.diameter() * math.pi\n",
    "\n",
    "    @property\n",
    "    def rim(self):\n",
    "        return self.__rim\n",
    "\n",
    "    @property\n",
    "    def tire(self):\n",
    "        return self.__tire"
   ]
  },
  {
   "cell_type": "code",
   "execution_count": 39,
   "metadata": {
    "collapsed": false
   },
   "outputs": [
    {
     "name": "stdout",
     "output_type": "stream",
     "text": [
      "91.106186954104\n",
      "137.0909090909091\n",
      "4.7272727272727275\n"
     ]
    }
   ],
   "source": [
    "wheel = Wheel(26, 1.5)\n",
    "\n",
    "print(wheel.circumference())\n",
    "print(Gear(52, 11, wheel).gear_inches())\n",
    "print(Gear(52, 11).ratio())"
   ]
  },
  {
   "cell_type": "code",
   "execution_count": null,
   "metadata": {
    "collapsed": true
   },
   "outputs": [],
   "source": []
  },
  {
   "cell_type": "code",
   "execution_count": null,
   "metadata": {
    "collapsed": true
   },
   "outputs": [],
   "source": []
  },
  {
   "cell_type": "code",
   "execution_count": null,
   "metadata": {
    "collapsed": true
   },
   "outputs": [],
   "source": []
  },
  {
   "cell_type": "code",
   "execution_count": null,
   "metadata": {
    "collapsed": true
   },
   "outputs": [],
   "source": []
  },
  {
   "cell_type": "code",
   "execution_count": null,
   "metadata": {
    "collapsed": true
   },
   "outputs": [],
   "source": []
  },
  {
   "cell_type": "code",
   "execution_count": null,
   "metadata": {
    "collapsed": true
   },
   "outputs": [],
   "source": []
  },
  {
   "cell_type": "code",
   "execution_count": null,
   "metadata": {
    "collapsed": true
   },
   "outputs": [],
   "source": []
  }
 ],
 "metadata": {
  "kernelspec": {
   "display_name": "Python 3",
   "language": "python",
   "name": "python3"
  },
  "language_info": {
   "codemirror_mode": {
    "name": "ipython",
    "version": 3
   },
   "file_extension": ".py",
   "mimetype": "text/x-python",
   "name": "python",
   "nbconvert_exporter": "python",
   "pygments_lexer": "ipython3",
   "version": "3.5.1"
  }
 },
 "nbformat": 4,
 "nbformat_minor": 1
}
